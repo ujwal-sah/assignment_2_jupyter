{
 "cells": [
  {
   "cell_type": "code",
   "execution_count": 2,
   "id": "3ac062d7",
   "metadata": {},
   "outputs": [],
   "source": [
    "# import pandas to handle dataframes\n",
    "import pandas as pd"
   ]
  },
  {
   "cell_type": "code",
   "execution_count": 7,
   "id": "675f85d4",
   "metadata": {},
   "outputs": [
    {
     "data": {
      "text/html": [
       "<div>\n",
       "<style scoped>\n",
       "    .dataframe tbody tr th:only-of-type {\n",
       "        vertical-align: middle;\n",
       "    }\n",
       "\n",
       "    .dataframe tbody tr th {\n",
       "        vertical-align: top;\n",
       "    }\n",
       "\n",
       "    .dataframe thead th {\n",
       "        text-align: right;\n",
       "    }\n",
       "</style>\n",
       "<table border=\"1\" class=\"dataframe\">\n",
       "  <thead>\n",
       "    <tr style=\"text-align: right;\">\n",
       "      <th></th>\n",
       "      <th>mean_speed_right</th>\n",
       "      <th>mean_speed_center</th>\n",
       "      <th>mean_speed_left</th>\n",
       "      <th>traffic_flow_right</th>\n",
       "      <th>traffic_flow_center</th>\n",
       "      <th>traffic_flow_left</th>\n",
       "      <th>proportion_passenger_car_right</th>\n",
       "      <th>proportion_passenger_car_center</th>\n",
       "      <th>proportion_passenger_car_left</th>\n",
       "      <th>month</th>\n",
       "      <th>hour</th>\n",
       "    </tr>\n",
       "  </thead>\n",
       "  <tbody>\n",
       "    <tr>\n",
       "      <th>0</th>\n",
       "      <td>115.67</td>\n",
       "      <td>127.19</td>\n",
       "      <td>133.36</td>\n",
       "      <td>143</td>\n",
       "      <td>243</td>\n",
       "      <td>56</td>\n",
       "      <td>0.69</td>\n",
       "      <td>0.97</td>\n",
       "      <td>1.00</td>\n",
       "      <td>9</td>\n",
       "      <td>800</td>\n",
       "    </tr>\n",
       "    <tr>\n",
       "      <th>1</th>\n",
       "      <td>116.82</td>\n",
       "      <td>127.35</td>\n",
       "      <td>131.17</td>\n",
       "      <td>171</td>\n",
       "      <td>290</td>\n",
       "      <td>63</td>\n",
       "      <td>0.67</td>\n",
       "      <td>0.95</td>\n",
       "      <td>0.98</td>\n",
       "      <td>9</td>\n",
       "      <td>900</td>\n",
       "    </tr>\n",
       "    <tr>\n",
       "      <th>2</th>\n",
       "      <td>116.72</td>\n",
       "      <td>126.86</td>\n",
       "      <td>132.13</td>\n",
       "      <td>239</td>\n",
       "      <td>353</td>\n",
       "      <td>154</td>\n",
       "      <td>0.65</td>\n",
       "      <td>0.94</td>\n",
       "      <td>0.97</td>\n",
       "      <td>9</td>\n",
       "      <td>1000</td>\n",
       "    </tr>\n",
       "    <tr>\n",
       "      <th>3</th>\n",
       "      <td>115.91</td>\n",
       "      <td>125.86</td>\n",
       "      <td>131.48</td>\n",
       "      <td>271</td>\n",
       "      <td>396</td>\n",
       "      <td>172</td>\n",
       "      <td>0.69</td>\n",
       "      <td>0.87</td>\n",
       "      <td>0.98</td>\n",
       "      <td>9</td>\n",
       "      <td>1100</td>\n",
       "    </tr>\n",
       "    <tr>\n",
       "      <th>4</th>\n",
       "      <td>115.34</td>\n",
       "      <td>126.68</td>\n",
       "      <td>130.91</td>\n",
       "      <td>276</td>\n",
       "      <td>364</td>\n",
       "      <td>163</td>\n",
       "      <td>0.70</td>\n",
       "      <td>0.87</td>\n",
       "      <td>0.99</td>\n",
       "      <td>9</td>\n",
       "      <td>1200</td>\n",
       "    </tr>\n",
       "    <tr>\n",
       "      <th>...</th>\n",
       "      <td>...</td>\n",
       "      <td>...</td>\n",
       "      <td>...</td>\n",
       "      <td>...</td>\n",
       "      <td>...</td>\n",
       "      <td>...</td>\n",
       "      <td>...</td>\n",
       "      <td>...</td>\n",
       "      <td>...</td>\n",
       "      <td>...</td>\n",
       "      <td>...</td>\n",
       "    </tr>\n",
       "    <tr>\n",
       "      <th>2570</th>\n",
       "      <td>122.26</td>\n",
       "      <td>126.33</td>\n",
       "      <td>132.13</td>\n",
       "      <td>212</td>\n",
       "      <td>384</td>\n",
       "      <td>163</td>\n",
       "      <td>0.45</td>\n",
       "      <td>0.99</td>\n",
       "      <td>0.99</td>\n",
       "      <td>10</td>\n",
       "      <td>2000</td>\n",
       "    </tr>\n",
       "    <tr>\n",
       "      <th>2571</th>\n",
       "      <td>121.24</td>\n",
       "      <td>126.02</td>\n",
       "      <td>132.24</td>\n",
       "      <td>184</td>\n",
       "      <td>316</td>\n",
       "      <td>130</td>\n",
       "      <td>0.49</td>\n",
       "      <td>0.98</td>\n",
       "      <td>1.00</td>\n",
       "      <td>10</td>\n",
       "      <td>2100</td>\n",
       "    </tr>\n",
       "    <tr>\n",
       "      <th>2572</th>\n",
       "      <td>121.03</td>\n",
       "      <td>126.65</td>\n",
       "      <td>133.41</td>\n",
       "      <td>140</td>\n",
       "      <td>244</td>\n",
       "      <td>81</td>\n",
       "      <td>0.49</td>\n",
       "      <td>0.97</td>\n",
       "      <td>1.00</td>\n",
       "      <td>10</td>\n",
       "      <td>2200</td>\n",
       "    </tr>\n",
       "    <tr>\n",
       "      <th>2573</th>\n",
       "      <td>122.31</td>\n",
       "      <td>125.18</td>\n",
       "      <td>130.82</td>\n",
       "      <td>111</td>\n",
       "      <td>161</td>\n",
       "      <td>41</td>\n",
       "      <td>0.45</td>\n",
       "      <td>0.94</td>\n",
       "      <td>0.98</td>\n",
       "      <td>10</td>\n",
       "      <td>2300</td>\n",
       "    </tr>\n",
       "    <tr>\n",
       "      <th>2574</th>\n",
       "      <td>119.52</td>\n",
       "      <td>124.56</td>\n",
       "      <td>132.06</td>\n",
       "      <td>82</td>\n",
       "      <td>129</td>\n",
       "      <td>33</td>\n",
       "      <td>0.49</td>\n",
       "      <td>0.98</td>\n",
       "      <td>1.00</td>\n",
       "      <td>10</td>\n",
       "      <td>2400</td>\n",
       "    </tr>\n",
       "  </tbody>\n",
       "</table>\n",
       "<p>2575 rows × 11 columns</p>\n",
       "</div>"
      ],
      "text/plain": [
       "      mean_speed_right  mean_speed_center  mean_speed_left  \\\n",
       "0               115.67             127.19           133.36   \n",
       "1               116.82             127.35           131.17   \n",
       "2               116.72             126.86           132.13   \n",
       "3               115.91             125.86           131.48   \n",
       "4               115.34             126.68           130.91   \n",
       "...                ...                ...              ...   \n",
       "2570            122.26             126.33           132.13   \n",
       "2571            121.24             126.02           132.24   \n",
       "2572            121.03             126.65           133.41   \n",
       "2573            122.31             125.18           130.82   \n",
       "2574            119.52             124.56           132.06   \n",
       "\n",
       "      traffic_flow_right  traffic_flow_center  traffic_flow_left  \\\n",
       "0                    143                  243                 56   \n",
       "1                    171                  290                 63   \n",
       "2                    239                  353                154   \n",
       "3                    271                  396                172   \n",
       "4                    276                  364                163   \n",
       "...                  ...                  ...                ...   \n",
       "2570                 212                  384                163   \n",
       "2571                 184                  316                130   \n",
       "2572                 140                  244                 81   \n",
       "2573                 111                  161                 41   \n",
       "2574                  82                  129                 33   \n",
       "\n",
       "      proportion_passenger_car_right  proportion_passenger_car_center  \\\n",
       "0                               0.69                             0.97   \n",
       "1                               0.67                             0.95   \n",
       "2                               0.65                             0.94   \n",
       "3                               0.69                             0.87   \n",
       "4                               0.70                             0.87   \n",
       "...                              ...                              ...   \n",
       "2570                            0.45                             0.99   \n",
       "2571                            0.49                             0.98   \n",
       "2572                            0.49                             0.97   \n",
       "2573                            0.45                             0.94   \n",
       "2574                            0.49                             0.98   \n",
       "\n",
       "      proportion_passenger_car_left  month  hour  \n",
       "0                              1.00      9   800  \n",
       "1                              0.98      9   900  \n",
       "2                              0.97      9  1000  \n",
       "3                              0.98      9  1100  \n",
       "4                              0.99      9  1200  \n",
       "...                             ...    ...   ...  \n",
       "2570                           0.99     10  2000  \n",
       "2571                           1.00     10  2100  \n",
       "2572                           1.00     10  2200  \n",
       "2573                           0.98     10  2300  \n",
       "2574                           1.00     10  2400  \n",
       "\n",
       "[2575 rows x 11 columns]"
      ]
     },
     "execution_count": 7,
     "metadata": {},
     "output_type": "execute_result"
    }
   ],
   "source": [
    "# csv seperated values\n",
    "user_cols = [\"mean_speed_right\", \"mean_speed_center\", \"mean_speed_left\", \"traffic_flow_right\", \"traffic_flow_center\", \"traffic_flow_left\", \"proportion_passenger_car_right\", \"proportion_passenger_car_center\", \"proportion_passenger_car_left\", \"month\", \"hour\"]\n",
    "df = pd.read_csv(\"assignment_2_data.txt\", header=None, names=user_cols)\n",
    "df"
   ]
  },
  {
   "cell_type": "code",
   "execution_count": 3,
   "id": "8c796ddc",
   "metadata": {},
   "outputs": [
    {
     "data": {
      "text/plain": [
       "(2575, 11)"
      ]
     },
     "execution_count": 3,
     "metadata": {},
     "output_type": "execute_result"
    }
   ],
   "source": [
    "# number of rows and columns\n",
    "df.shape"
   ]
  },
  {
   "cell_type": "code",
   "execution_count": 4,
   "id": "60199fde",
   "metadata": {},
   "outputs": [
    {
     "data": {
      "text/plain": [
       "mean_speed_right                   float64\n",
       "mean_speed_center                  float64\n",
       "mean_speed_left                    float64\n",
       "traffic_flow_right                   int64\n",
       "traffic_flow_center                  int64\n",
       "traffic_flow_left                    int64\n",
       "proportion_passenger_car_right     float64\n",
       "proportion_passenger_car_center    float64\n",
       "proportion_passenger_car_left      float64\n",
       "month                                int64\n",
       "hour                                 int64\n",
       "dtype: object"
      ]
     },
     "execution_count": 4,
     "metadata": {},
     "output_type": "execute_result"
    }
   ],
   "source": [
    "# data types of independent variables\n",
    "df.dtypes"
   ]
  },
  {
   "cell_type": "code",
   "execution_count": 5,
   "id": "b51c04f1",
   "metadata": {},
   "outputs": [],
   "source": [
    "# create a Python list of feature names\n",
    "feature_cols_right = ['traffic_flow_right', 'proportion_passenger_car_right']\n",
    "feature_cols_center = ['traffic_flow_center', 'proportion_passenger_car_center']\n",
    "feature_cols_left = ['traffic_flow_left', 'proportion_passenger_car_left']\n",
    "\n",
    "# use the list to select a subset of the original DataFrame\n",
    "ZR = df[feature_cols_right]\n",
    "ZC = df[feature_cols_center]\n",
    "ZL = df[feature_cols_left]"
   ]
  },
  {
   "cell_type": "code",
   "execution_count": 6,
   "id": "e2b8fa67",
   "metadata": {},
   "outputs": [
    {
     "data": {
      "text/html": [
       "<div>\n",
       "<style scoped>\n",
       "    .dataframe tbody tr th:only-of-type {\n",
       "        vertical-align: middle;\n",
       "    }\n",
       "\n",
       "    .dataframe tbody tr th {\n",
       "        vertical-align: top;\n",
       "    }\n",
       "\n",
       "    .dataframe thead th {\n",
       "        text-align: right;\n",
       "    }\n",
       "</style>\n",
       "<table border=\"1\" class=\"dataframe\">\n",
       "  <thead>\n",
       "    <tr style=\"text-align: right;\">\n",
       "      <th></th>\n",
       "      <th>traffic_flow_right</th>\n",
       "      <th>proportion_passenger_car_right</th>\n",
       "    </tr>\n",
       "  </thead>\n",
       "  <tbody>\n",
       "    <tr>\n",
       "      <th>0</th>\n",
       "      <td>143</td>\n",
       "      <td>0.69</td>\n",
       "    </tr>\n",
       "    <tr>\n",
       "      <th>1</th>\n",
       "      <td>171</td>\n",
       "      <td>0.67</td>\n",
       "    </tr>\n",
       "    <tr>\n",
       "      <th>2</th>\n",
       "      <td>239</td>\n",
       "      <td>0.65</td>\n",
       "    </tr>\n",
       "    <tr>\n",
       "      <th>3</th>\n",
       "      <td>271</td>\n",
       "      <td>0.69</td>\n",
       "    </tr>\n",
       "    <tr>\n",
       "      <th>4</th>\n",
       "      <td>276</td>\n",
       "      <td>0.70</td>\n",
       "    </tr>\n",
       "  </tbody>\n",
       "</table>\n",
       "</div>"
      ],
      "text/plain": [
       "   traffic_flow_right  proportion_passenger_car_right\n",
       "0                 143                            0.69\n",
       "1                 171                            0.67\n",
       "2                 239                            0.65\n",
       "3                 271                            0.69\n",
       "4                 276                            0.70"
      ]
     },
     "execution_count": 6,
     "metadata": {},
     "output_type": "execute_result"
    }
   ],
   "source": [
    "# print the first 5 values for right\n",
    "ZR.head()"
   ]
  },
  {
   "cell_type": "code",
   "execution_count": 7,
   "id": "b706d1a4",
   "metadata": {},
   "outputs": [
    {
     "data": {
      "text/html": [
       "<div>\n",
       "<style scoped>\n",
       "    .dataframe tbody tr th:only-of-type {\n",
       "        vertical-align: middle;\n",
       "    }\n",
       "\n",
       "    .dataframe tbody tr th {\n",
       "        vertical-align: top;\n",
       "    }\n",
       "\n",
       "    .dataframe thead th {\n",
       "        text-align: right;\n",
       "    }\n",
       "</style>\n",
       "<table border=\"1\" class=\"dataframe\">\n",
       "  <thead>\n",
       "    <tr style=\"text-align: right;\">\n",
       "      <th></th>\n",
       "      <th>traffic_flow_center</th>\n",
       "      <th>proportion_passenger_car_center</th>\n",
       "    </tr>\n",
       "  </thead>\n",
       "  <tbody>\n",
       "    <tr>\n",
       "      <th>0</th>\n",
       "      <td>243</td>\n",
       "      <td>0.97</td>\n",
       "    </tr>\n",
       "    <tr>\n",
       "      <th>1</th>\n",
       "      <td>290</td>\n",
       "      <td>0.95</td>\n",
       "    </tr>\n",
       "    <tr>\n",
       "      <th>2</th>\n",
       "      <td>353</td>\n",
       "      <td>0.94</td>\n",
       "    </tr>\n",
       "    <tr>\n",
       "      <th>3</th>\n",
       "      <td>396</td>\n",
       "      <td>0.87</td>\n",
       "    </tr>\n",
       "    <tr>\n",
       "      <th>4</th>\n",
       "      <td>364</td>\n",
       "      <td>0.87</td>\n",
       "    </tr>\n",
       "  </tbody>\n",
       "</table>\n",
       "</div>"
      ],
      "text/plain": [
       "   traffic_flow_center  proportion_passenger_car_center\n",
       "0                  243                             0.97\n",
       "1                  290                             0.95\n",
       "2                  353                             0.94\n",
       "3                  396                             0.87\n",
       "4                  364                             0.87"
      ]
     },
     "execution_count": 7,
     "metadata": {},
     "output_type": "execute_result"
    }
   ],
   "source": [
    "# print the first 5 values for center\n",
    "ZC.head()"
   ]
  },
  {
   "cell_type": "code",
   "execution_count": 8,
   "id": "9cd04028",
   "metadata": {},
   "outputs": [
    {
     "data": {
      "text/html": [
       "<div>\n",
       "<style scoped>\n",
       "    .dataframe tbody tr th:only-of-type {\n",
       "        vertical-align: middle;\n",
       "    }\n",
       "\n",
       "    .dataframe tbody tr th {\n",
       "        vertical-align: top;\n",
       "    }\n",
       "\n",
       "    .dataframe thead th {\n",
       "        text-align: right;\n",
       "    }\n",
       "</style>\n",
       "<table border=\"1\" class=\"dataframe\">\n",
       "  <thead>\n",
       "    <tr style=\"text-align: right;\">\n",
       "      <th></th>\n",
       "      <th>traffic_flow_left</th>\n",
       "      <th>proportion_passenger_car_left</th>\n",
       "    </tr>\n",
       "  </thead>\n",
       "  <tbody>\n",
       "    <tr>\n",
       "      <th>0</th>\n",
       "      <td>56</td>\n",
       "      <td>1.00</td>\n",
       "    </tr>\n",
       "    <tr>\n",
       "      <th>1</th>\n",
       "      <td>63</td>\n",
       "      <td>0.98</td>\n",
       "    </tr>\n",
       "    <tr>\n",
       "      <th>2</th>\n",
       "      <td>154</td>\n",
       "      <td>0.97</td>\n",
       "    </tr>\n",
       "    <tr>\n",
       "      <th>3</th>\n",
       "      <td>172</td>\n",
       "      <td>0.98</td>\n",
       "    </tr>\n",
       "    <tr>\n",
       "      <th>4</th>\n",
       "      <td>163</td>\n",
       "      <td>0.99</td>\n",
       "    </tr>\n",
       "  </tbody>\n",
       "</table>\n",
       "</div>"
      ],
      "text/plain": [
       "   traffic_flow_left  proportion_passenger_car_left\n",
       "0                 56                           1.00\n",
       "1                 63                           0.98\n",
       "2                154                           0.97\n",
       "3                172                           0.98\n",
       "4                163                           0.99"
      ]
     },
     "execution_count": 8,
     "metadata": {},
     "output_type": "execute_result"
    }
   ],
   "source": [
    "# print the first 5 values for left\n",
    "ZL.head()"
   ]
  },
  {
   "cell_type": "code",
   "execution_count": 9,
   "id": "6d7cee14",
   "metadata": {},
   "outputs": [],
   "source": [
    "# select a Series from the DataFrame\n",
    "SR = df.mean_speed_right\n",
    "SC = df.mean_speed_center\n",
    "SL = df.mean_speed_left"
   ]
  },
  {
   "cell_type": "code",
   "execution_count": 10,
   "id": "fc97a7f4",
   "metadata": {},
   "outputs": [
    {
     "data": {
      "text/plain": [
       "0    115.67\n",
       "1    116.82\n",
       "2    116.72\n",
       "3    115.91\n",
       "4    115.34\n",
       "Name: mean_speed_right, dtype: float64"
      ]
     },
     "execution_count": 10,
     "metadata": {},
     "output_type": "execute_result"
    }
   ],
   "source": [
    "# print the first 5 values for right\n",
    "SR.head()"
   ]
  },
  {
   "cell_type": "code",
   "execution_count": 11,
   "id": "af3136b4",
   "metadata": {},
   "outputs": [
    {
     "data": {
      "text/plain": [
       "0    127.19\n",
       "1    127.35\n",
       "2    126.86\n",
       "3    125.86\n",
       "4    126.68\n",
       "Name: mean_speed_center, dtype: float64"
      ]
     },
     "execution_count": 11,
     "metadata": {},
     "output_type": "execute_result"
    }
   ],
   "source": [
    "# print the first 5 values for center\n",
    "SC.head()"
   ]
  },
  {
   "cell_type": "code",
   "execution_count": 12,
   "id": "209333b1",
   "metadata": {},
   "outputs": [
    {
     "data": {
      "text/plain": [
       "0    133.36\n",
       "1    131.17\n",
       "2    132.13\n",
       "3    131.48\n",
       "4    130.91\n",
       "Name: mean_speed_left, dtype: float64"
      ]
     },
     "execution_count": 12,
     "metadata": {},
     "output_type": "execute_result"
    }
   ],
   "source": [
    "# print the first 5 values for Left\n",
    "SL.head()"
   ]
  },
  {
   "cell_type": "code",
   "execution_count": 13,
   "id": "69b5f2fa",
   "metadata": {},
   "outputs": [],
   "source": [
    "# import linear regression model\n",
    "from sklearn.linear_model import LinearRegression"
   ]
  },
  {
   "cell_type": "code",
   "execution_count": 19,
   "id": "f798d245",
   "metadata": {},
   "outputs": [],
   "source": [
    "# define three linreg models\n",
    "linreg_R = LinearRegression()\n",
    "linreg_C = LinearRegression()\n",
    "linreg_L = LinearRegression()"
   ]
  },
  {
   "cell_type": "code",
   "execution_count": 20,
   "id": "e69b5e27",
   "metadata": {},
   "outputs": [
    {
     "data": {
      "text/plain": [
       "LinearRegression()"
      ]
     },
     "execution_count": 20,
     "metadata": {},
     "output_type": "execute_result"
    }
   ],
   "source": [
    "# fit the model to the training data (learn the coefficients) for right\n",
    "linreg_R.fit(ZR, SR)"
   ]
  },
  {
   "cell_type": "code",
   "execution_count": 21,
   "id": "aa12e742",
   "metadata": {},
   "outputs": [
    {
     "data": {
      "text/plain": [
       "LinearRegression()"
      ]
     },
     "execution_count": 21,
     "metadata": {},
     "output_type": "execute_result"
    }
   ],
   "source": [
    "# fit the model to the training data (learn the coefficients) for center\n",
    "linreg_C.fit(ZC, SC)"
   ]
  },
  {
   "cell_type": "code",
   "execution_count": 22,
   "id": "fc5b6d9e",
   "metadata": {},
   "outputs": [
    {
     "data": {
      "text/plain": [
       "LinearRegression()"
      ]
     },
     "execution_count": 22,
     "metadata": {},
     "output_type": "execute_result"
    }
   ],
   "source": [
    "# fit the model to the training data (learn the coefficients) for left\n",
    "linreg_L.fit(ZL, SL)"
   ]
  },
  {
   "cell_type": "code",
   "execution_count": 24,
   "id": "7e40a31b",
   "metadata": {},
   "outputs": [
    {
     "name": "stdout",
     "output_type": "stream",
     "text": [
      "98.85730828740508\n",
      "[ 0.0474482  16.44144494]\n"
     ]
    }
   ],
   "source": [
    "# print the intercept and coefficients\n",
    "print(linreg_R.intercept_)\n",
    "print(linreg_R.coef_)"
   ]
  },
  {
   "cell_type": "code",
   "execution_count": 26,
   "id": "5f3fac20",
   "metadata": {},
   "outputs": [
    {
     "name": "stdout",
     "output_type": "stream",
     "text": [
      "88.13996757781467\n",
      "[2.23020164e-03 3.98283660e+01]\n"
     ]
    }
   ],
   "source": [
    "# print the intercept and coefficients\n",
    "print(linreg_C.intercept_)\n",
    "print(linreg_C.coef_)"
   ]
  },
  {
   "cell_type": "code",
   "execution_count": 27,
   "id": "3ac7e6ce",
   "metadata": {},
   "outputs": [
    {
     "name": "stdout",
     "output_type": "stream",
     "text": [
      "31.12421119840218\n",
      "[1.17525697e-02 9.84652223e+01]\n"
     ]
    }
   ],
   "source": [
    "# print the intercept and coefficients\n",
    "print(linreg_L.intercept_)\n",
    "print(linreg_L.coef_)"
   ]
  },
  {
   "cell_type": "code",
   "execution_count": null,
   "id": "3e6fc9ed",
   "metadata": {},
   "outputs": [],
   "source": []
  }
 ],
 "metadata": {
  "kernelspec": {
   "display_name": "Python 3 (ipykernel)",
   "language": "python",
   "name": "python3"
  },
  "language_info": {
   "codemirror_mode": {
    "name": "ipython",
    "version": 3
   },
   "file_extension": ".py",
   "mimetype": "text/x-python",
   "name": "python",
   "nbconvert_exporter": "python",
   "pygments_lexer": "ipython3",
   "version": "3.9.12"
  }
 },
 "nbformat": 4,
 "nbformat_minor": 5
}
